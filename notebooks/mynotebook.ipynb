{
 "cells": [
  {
   "cell_type": "code",
   "execution_count": null,
   "metadata": {},
   "outputs": [],
   "source": [
    "name = \"foo\"\n",
    "print(f\"{name}\")\n"
   ]
  },
  {
   "cell_type": "code",
   "execution_count": 5,
   "metadata": {},
   "outputs": [
    {
     "name": "stdout",
     "output_type": "stream",
     "text": [
      "{'coord': {'lon': -0.7558, 'lat': 52.0417}, 'weather': [{'id': 501, 'main': 'Rain', 'description': 'moderate rain', 'icon': '10d'}], 'base': 'stations', 'main': {'temp': 278.94, 'feels_like': 275.41, 'temp_min': 278.03, 'temp_max': 279.25, 'pressure': 1009, 'humidity': 72, 'sea_level': 1009, 'grnd_level': 998}, 'visibility': 9000, 'wind': {'speed': 5.14, 'deg': 240}, 'rain': {'1h': 2.37}, 'clouds': {'all': 75}, 'dt': 1740573244, 'sys': {'type': 2, 'id': 2027492, 'country': 'GB', 'sunrise': 1740552930, 'sunset': 1740591400}, 'timezone': 0, 'id': 2642465, 'name': 'Milton Keynes', 'cod': 200}\n"
     ]
    }
   ],
   "source": [
    "import requests\n",
    "\n",
    "# Define the endpoint and parameters\n",
    "api_key = '8335bdff30dd8d79f9733b4d36a78ed1'  # Replace with your actual API key\n",
    "city = 'Milton Keynes'\n",
    "country = 'GB'\n",
    "url = f'http://api.openweathermap.org/data/2.5/weather?q={city},{country}&appid={api_key}'\n",
    "\n",
    "# Make the request\n",
    "response = requests.get(url)\n",
    "weather_data = response.json()\n",
    "\n",
    "# Print the weather data\n",
    "print(weather_data)"
   ]
  }
 ],
 "metadata": {
  "kernelspec": {
   "display_name": ".venv",
   "language": "python",
   "name": "python3"
  },
  "language_info": {
   "codemirror_mode": {
    "name": "ipython",
    "version": 3
   },
   "file_extension": ".py",
   "mimetype": "text/x-python",
   "name": "python",
   "nbconvert_exporter": "python",
   "pygments_lexer": "ipython3",
   "version": "3.12.3"
  }
 },
 "nbformat": 4,
 "nbformat_minor": 2
}
